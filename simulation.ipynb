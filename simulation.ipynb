{
 "cells": [
  {
   "cell_type": "markdown",
   "metadata": {},
   "source": [
    "**Simulation Runner**"
   ]
  },
  {
   "cell_type": "markdown",
   "metadata": {},
   "source": [
    "Install and import packages"
   ]
  },
  {
   "cell_type": "code",
   "execution_count": 1,
   "metadata": {},
   "outputs": [
    {
     "name": "stdout",
     "output_type": "stream",
     "text": [
      "WARNING: pip is being invoked by an old script wrapper. This will fail in a future version of pip.\n",
      "Please see https://github.com/pypa/pip/issues/5599 for advice on fixing the underlying issue.\n",
      "To avoid this problem you can invoke Python with '-m pip' instead of running pip directly.\n",
      "Requirement already satisfied: brian2 in ./.local/lib/python3.6/site-packages (2.4.2)\n",
      "Requirement already satisfied: pyparsing in /rds/general/applications/jupyterhub/2019-04-29/miniconda/lib/python3.6/site-packages (from brian2) (2.4.0)\n",
      "Requirement already satisfied: jinja2>=2.7 in /rds/general/applications/jupyterhub/2019-04-29/miniconda/lib/python3.6/site-packages (from brian2) (2.10.1)\n",
      "Requirement already satisfied: setuptools>=24.2 in ./.local/lib/python3.6/site-packages (from brian2) (53.0.0)\n",
      "Requirement already satisfied: numpy>=1.15 in /rds/general/applications/jupyterhub/2019-04-29/miniconda/lib/python3.6/site-packages (from brian2) (1.16.2)\n",
      "Requirement already satisfied: cython>=0.29 in ./.local/lib/python3.6/site-packages (from brian2) (0.29.21)\n",
      "Requirement already satisfied: sympy>=1.2 in ./.local/lib/python3.6/site-packages (from brian2) (1.7.1)\n",
      "Requirement already satisfied: MarkupSafe>=0.23 in /rds/general/applications/jupyterhub/2019-04-29/miniconda/lib/python3.6/site-packages (from jinja2>=2.7->brian2) (1.1.1)\n",
      "Requirement already satisfied: mpmath>=0.19 in ./.local/lib/python3.6/site-packages (from sympy>=1.2->brian2) (1.1.0)\n",
      "WARNING: pip is being invoked by an old script wrapper. This will fail in a future version of pip.\n",
      "Please see https://github.com/pypa/pip/issues/5599 for advice on fixing the underlying issue.\n",
      "To avoid this problem you can invoke Python with '-m pip' instead of running pip directly.\n",
      "Requirement already satisfied: brian2tools in ./.local/lib/python3.6/site-packages (0.2.1.1)\n",
      "Requirement already satisfied: brian2>=2.0 in ./.local/lib/python3.6/site-packages (from brian2tools) (2.4.2)\n",
      "Requirement already satisfied: matplotlib>=1.3.1 in /rds/general/applications/jupyterhub/2019-04-29/miniconda/lib/python3.6/site-packages (from brian2tools) (3.0.3)\n",
      "Requirement already satisfied: setuptools in ./.local/lib/python3.6/site-packages (from brian2tools) (53.0.0)\n",
      "Requirement already satisfied: setuptools-scm in ./.local/lib/python3.6/site-packages (from brian2tools) (5.0.1)\n",
      "Requirement already satisfied: pylems>=0.4.9 in ./.local/lib/python3.6/site-packages (from brian2tools) (0.5.1)\n",
      "Requirement already satisfied: pyparsing in /rds/general/applications/jupyterhub/2019-04-29/miniconda/lib/python3.6/site-packages (from brian2>=2.0->brian2tools) (2.4.0)\n",
      "Requirement already satisfied: sympy>=1.2 in ./.local/lib/python3.6/site-packages (from brian2>=2.0->brian2tools) (1.7.1)\n",
      "Requirement already satisfied: numpy>=1.15 in /rds/general/applications/jupyterhub/2019-04-29/miniconda/lib/python3.6/site-packages (from brian2>=2.0->brian2tools) (1.16.2)\n",
      "Requirement already satisfied: cython>=0.29 in ./.local/lib/python3.6/site-packages (from brian2>=2.0->brian2tools) (0.29.21)\n",
      "Requirement already satisfied: jinja2>=2.7 in /rds/general/applications/jupyterhub/2019-04-29/miniconda/lib/python3.6/site-packages (from brian2>=2.0->brian2tools) (2.10.1)\n",
      "Requirement already satisfied: MarkupSafe>=0.23 in /rds/general/applications/jupyterhub/2019-04-29/miniconda/lib/python3.6/site-packages (from jinja2>=2.7->brian2>=2.0->brian2tools) (1.1.1)\n",
      "Requirement already satisfied: cycler>=0.10 in /rds/general/applications/jupyterhub/2019-04-29/miniconda/lib/python3.6/site-packages (from matplotlib>=1.3.1->brian2tools) (0.10.0)\n",
      "Requirement already satisfied: kiwisolver>=1.0.1 in /rds/general/applications/jupyterhub/2019-04-29/miniconda/lib/python3.6/site-packages (from matplotlib>=1.3.1->brian2tools) (1.1.0)\n",
      "Requirement already satisfied: python-dateutil>=2.1 in /rds/general/applications/jupyterhub/2019-04-29/miniconda/lib/python3.6/site-packages (from matplotlib>=1.3.1->brian2tools) (2.8.0)\n",
      "Requirement already satisfied: six in /rds/general/applications/jupyterhub/2019-04-29/miniconda/lib/python3.6/site-packages (from cycler>=0.10->matplotlib>=1.3.1->brian2tools) (1.12.0)\n",
      "Requirement already satisfied: mpmath>=0.19 in ./.local/lib/python3.6/site-packages (from sympy>=1.2->brian2>=2.0->brian2tools) (1.1.0)\n",
      "WARNING: pip is being invoked by an old script wrapper. This will fail in a future version of pip.\n",
      "Please see https://github.com/pypa/pip/issues/5599 for advice on fixing the underlying issue.\n",
      "To avoid this problem you can invoke Python with '-m pip' instead of running pip directly.\n",
      "Requirement already satisfied: pip in ./.local/lib/python3.6/site-packages (21.0.1)\n",
      "Requirement already satisfied: setuptools in ./.local/lib/python3.6/site-packages (53.0.0)\n",
      "Requirement already satisfied: wheel in ./.local/lib/python3.6/site-packages (0.36.2)\n",
      "WARNING: pip is being invoked by an old script wrapper. This will fail in a future version of pip.\n",
      "Please see https://github.com/pypa/pip/issues/5599 for advice on fixing the underlying issue.\n",
      "To avoid this problem you can invoke Python with '-m pip' instead of running pip directly.\n",
      "Requirement already satisfied: opencv-python in ./.local/lib/python3.6/site-packages (4.5.1.48)\n",
      "Requirement already satisfied: numpy>=1.13.3 in /rds/general/applications/jupyterhub/2019-04-29/miniconda/lib/python3.6/site-packages (from opencv-python) (1.16.2)\n"
     ]
    }
   ],
   "source": [
    "!pip install --user brian2\n",
    "!pip install --user brian2tools\n",
    "!pip install --user --upgrade pip setuptools wheel\n",
    "!pip install --user opencv-python"
   ]
  },
  {
   "cell_type": "code",
   "execution_count": 2,
   "metadata": {
    "id": "YOckP_sYQcda"
   },
   "outputs": [],
   "source": [
    "import numpy as np\n",
    "import matplotlib\n",
    "import matplotlib.pyplot as plt\n",
    "import cv2\n",
    "import glob\n",
    "import time\n",
    "import csv\n",
    "from brian2 import *\n",
    "from model import *"
   ]
  },
  {
   "cell_type": "markdown",
   "metadata": {},
   "source": [
    "Function definitions"
   ]
  },
  {
   "cell_type": "code",
   "execution_count": 3,
   "metadata": {
    "id": "_F9FfyFSQl_5"
   },
   "outputs": [],
   "source": [
    "def spikes_to_csv(file_name,spike_monitor):\n",
    "    spike_array = [spike_monitor.i,spike_monitor.t_]\n",
    "    with open(file_name+\".csv\",\"w+\") as my_csv:\n",
    "        csvWriter = csv.writer(my_csv,delimiter=',')\n",
    "        csvWriter.writerows(spike_array)"
   ]
  },
  {
   "cell_type": "code",
   "execution_count": null,
   "metadata": {
    "id": "c82U1JttQg-S"
   },
   "outputs": [],
   "source": [
    "def spikemon_to_raster(spike_monitor):\n",
    "  fig = plt.figure(dpi=150)\n",
    "  plt.plot(spike_monitor.t/ms, spike_monitor.i, ',k')\n",
    "  plt.xlabel('Time (ms)')\n",
    "  plt.ylabel('Neuron index')\n",
    "  plt.xlim([5000,5800])\n",
    "  # plt.savefig(spike_monitor+'.png',dpi=500)"
   ]
  },
  {
   "cell_type": "markdown",
   "metadata": {},
   "source": [
    "Create network"
   ]
  },
  {
   "cell_type": "code",
   "execution_count": null,
   "metadata": {
    "colab": {
     "base_uri": "https://localhost:8080/"
    },
    "id": "XryjXIYhQ_gM",
    "outputId": "dae6cae5-d678-4ad7-a209-bb25b85994db"
   },
   "outputs": [
    {
     "name": "stdout",
     "output_type": "stream",
     "text": [
      "Building neurons\n"
     ]
    },
    {
     "name": "stderr",
     "output_type": "stream",
     "text": [
      "INFO       The synaptic equation for the variable w does not specify whether it should be integrated at every timestep (\"clock-driven\") or only at spiking events (\"event-driven\"). It will be integrated at every timestep which can slow down your simulation unnecessarily if you only need the values of this variable whenever a spike occurs. Specify the equation as clock-driven explicitly to avoid this warning. [brian2.synapses.synapses.clock_driven]\n"
     ]
    },
    {
     "name": "stdout",
     "output_type": "stream",
     "text": [
      "Building bottom-up connections\n",
      "Building lateral connections\n",
      "Building top-down connections\n",
      "Building spike monitors\n",
      "Construction time: 469.3 seconds\n",
      "Layers\n",
      "\n",
      " layer | neurons | dimensions  | spacing (um)\n",
      "\n",
      "----------------------------------------------\n",
      "\n",
      " 0      | 786432   | 256x256x12 | 50.00\n",
      "\n",
      " 1 exc. | 4096     | 64x64      | 200.00 \n",
      "\n",
      " 1 inh. | 1024     | 32x32      | 400.00 \n",
      "\n",
      " 2 exc. | 4096     | 64x64      | 200.00\n",
      "\n",
      " 2 inh. | 1024     | 32x32      | 400.00\n",
      "\n",
      " 3 exc. | 4096     | 64x64      | 200.00\n",
      "\n",
      " 3 inh. | 1024     | 32x32      | 400.00\n",
      "\n",
      " 4 exc. | 4096     | 64x64      | 200.00\n",
      "\n",
      "\n",
      " 4 inh. | 1024     | 32x32      | 400.00\n",
      "\n",
      "\n",
      "Bottom-up connections\n",
      "\n",
      " source | target | connections\n",
      "\n",
      "-------------------------------\n",
      "\n",
      " 0      | 1 exc. | 1353264\n",
      "\n",
      " 1 exc. | 2 exc. | 10960\n",
      "\n",
      " 2 exc. | 3 exc. | 11112\n",
      "\n",
      " 3 exc. | 4 exc. | 11101\n",
      "\n",
      "Lateral connections\n",
      "\n",
      " source | target | connections\n",
      "\n",
      "-------------------------------\n",
      "\n",
      " 1 exc. | 1 inh. | 2624\n",
      "\n",
      " 2 exc. | 2 inh. | 2624\n",
      "\n",
      " 3 exc. | 3 inh. | 2624\n",
      "\n",
      " 4 exc. | 4 inh. | 2624\n",
      "\n",
      " 1 inh. | 1 exc. | 584025\n",
      "\n",
      " 2 inh. | 2 exc. | 583886\n",
      "\n",
      " 3 inh. | 3 exc. | 584333\n",
      "\n",
      " 4 inh. | 4 exc. | 584051\n",
      "\n",
      "Top-down connections\n",
      "\n",
      " source | target | connections\n",
      "\n",
      "-------------------------------\n",
      "\n",
      " 4 exc. | 3 exc. | 14317\n",
      "\n",
      " 3 exc. | 2 exc. | 14220\n",
      "\n",
      " 2 exc. | 1 exc. | 14244\n",
      "\n"
     ]
    }
   ],
   "source": [
    "visnet = SpikingVisNet()\n",
    "visnet.model_summary()"
   ]
  },
  {
   "cell_type": "code",
   "execution_count": null,
   "metadata": {},
   "outputs": [],
   "source": [
    "start_scope()"
   ]
  },
  {
   "cell_type": "markdown",
   "metadata": {},
   "source": [
    "Train network"
   ]
  },
  {
   "cell_type": "code",
   "execution_count": null,
   "metadata": {
    "colab": {
     "base_uri": "https://localhost:8080/"
    },
    "id": "beJ_3jq4JkDD",
    "outputId": "31ed26bc-27e6-4539-fc23-1a6d165a76b1"
   },
   "outputs": [
    {
     "name": "stdout",
     "output_type": "stream",
     "text": [
      "Starting simulation at t=0. s for a duration of 2. s\n",
      "8.2 ms (0%) simulated in 10s, estimated 40m 45s remaining.\n",
      "15.7 ms (0%) simulated in 20s, estimated 42m 17s remaining.\n",
      "23.7 ms (1%) simulated in 30s, estimated 41m 56s remaining.\n",
      "32.8 ms (1%) simulated in 40s, estimated 40m 12s remaining.\n",
      "45.1 ms (2%) simulated in 50s, estimated 36m 19s remaining.\n",
      "57.4 ms (2%) simulated in 1m 0s, estimated 34m 1s remaining.\n",
      "69.7 ms (3%) simulated in 1m 10s, estimated 32m 29s remaining.\n",
      "82. ms (4%) simulated in 1m 20s, estimated 31m 21s remaining.\n",
      "94.3 ms (4%) simulated in 1m 30s, estimated 30m 29s remaining.\n",
      "106.6 ms (5%) simulated in 1m 40s, estimated 29m 46s remaining.\n",
      "118.9 ms (5%) simulated in 1m 50s, estimated 29m 10s remaining.\n",
      "130.5 ms (6%) simulated in 2m 0s, estimated 28m 49s remaining.\n",
      "142.3 ms (7%) simulated in 2m 10s, estimated 28m 27s remaining.\n",
      "153.8 ms (7%) simulated in 2m 20s, estimated 28m 11s remaining.\n",
      "165.6 ms (8%) simulated in 2m 30s, estimated 27m 51s remaining.\n",
      "177.9 ms (8%) simulated in 2m 40s, estimated 27m 28s remaining.\n",
      "190.2 ms (9%) simulated in 2m 50s, estimated 27m 7s remaining.\n",
      "202.5 ms (10%) simulated in 3m 1s, estimated 26m 47s remaining.\n",
      "214.8 ms (10%) simulated in 3m 11s, estimated 26m 28s remaining.\n",
      "227.1 ms (11%) simulated in 3m 21s, estimated 26m 11s remaining.\n",
      "239.4 ms (11%) simulated in 3m 31s, estimated 25m 54s remaining.\n",
      "251.7 ms (12%) simulated in 3m 41s, estimated 25m 37s remaining.\n",
      "264. ms (13%) simulated in 3m 51s, estimated 25m 22s remaining.\n",
      "271.3 ms (13%) simulated in 4m 1s, estimated 25m 39s remaining.\n",
      "280.5 ms (14%) simulated in 4m 11s, estimated 25m 42s remaining.\n"
     ]
    }
   ],
   "source": [
    "ims = read_images('data/n4p2')\n",
    "for im in ims:\n",
    "    # create plot of original image\n",
    "    plt.figure(figsize=[7,5])\n",
    "    plt.imshow(im,cmap='gray', vmin=0, vmax=255) # this line creates the image using the pre-defined sub axes\n",
    "    visnet.run_simulation(im,2*second)"
   ]
  },
  {
   "cell_type": "markdown",
   "metadata": {},
   "source": [
    "Test network"
   ]
  },
  {
   "cell_type": "markdown",
   "metadata": {},
   "source": [
    "Generate plots to visualise spikes"
   ]
  },
  {
   "cell_type": "code",
   "execution_count": null,
   "metadata": {
    "id": "a4tKglyIQY7Z"
   },
   "outputs": [],
   "source": [
    "%matplotlib inline"
   ]
  },
  {
   "cell_type": "code",
   "execution_count": null,
   "metadata": {
    "colab": {
     "base_uri": "https://localhost:8080/",
     "height": 562
    },
    "id": "Kx4CBnQKQj6J",
    "outputId": "92268321-a113-4b3d-ab54-9a827f092709"
   },
   "outputs": [],
   "source": [
    "spikemon_to_raster(visnet.L0_mon)"
   ]
  },
  {
   "cell_type": "code",
   "execution_count": null,
   "metadata": {
    "colab": {
     "base_uri": "https://localhost:8080/",
     "height": 562
    },
    "id": "HC-3FxQeQqZa",
    "outputId": "6fe583de-8460-48ca-deff-4ef2c0ba6f02"
   },
   "outputs": [],
   "source": [
    "spikemon_to_raster(visnet.L1_exc_mon)"
   ]
  },
  {
   "cell_type": "code",
   "execution_count": null,
   "metadata": {
    "colab": {
     "base_uri": "https://localhost:8080/",
     "height": 562
    },
    "id": "TBdySk5EQzzB",
    "outputId": "95c553a5-d941-498c-93f4-49aa2c35eb66"
   },
   "outputs": [],
   "source": [
    "spikemon_to_raster(visnet.L1_inh_mon)"
   ]
  },
  {
   "cell_type": "code",
   "execution_count": null,
   "metadata": {
    "colab": {
     "base_uri": "https://localhost:8080/",
     "height": 562
    },
    "id": "B3VVMC2xQ7oO",
    "outputId": "d27c63bd-b9cc-4916-ebfe-588afbe9bbeb"
   },
   "outputs": [],
   "source": [
    "spikemon_to_raster(visnet.L2_exc_mon)"
   ]
  },
  {
   "cell_type": "code",
   "execution_count": null,
   "metadata": {
    "colab": {
     "base_uri": "https://localhost:8080/",
     "height": 562
    },
    "id": "yleVWf_kRDqJ",
    "outputId": "bcd68169-8d50-452c-c9a2-b0fd1d093c0e"
   },
   "outputs": [],
   "source": [
    "spikemon_to_raster(visnet.L2_inh_mon)"
   ]
  },
  {
   "cell_type": "code",
   "execution_count": null,
   "metadata": {
    "colab": {
     "base_uri": "https://localhost:8080/",
     "height": 562
    },
    "id": "JZ_imrrQRHxg",
    "outputId": "6a5cb2f1-4c74-4cb1-c12e-d1b04e4211c6"
   },
   "outputs": [],
   "source": [
    "spikemon_to_raster(visnet.L3_exc_mon)"
   ]
  },
  {
   "cell_type": "code",
   "execution_count": null,
   "metadata": {
    "colab": {
     "base_uri": "https://localhost:8080/",
     "height": 562
    },
    "id": "202zNIzWRRx1",
    "outputId": "96ead5de-5701-41a6-a62d-00b6b88e1a31"
   },
   "outputs": [],
   "source": [
    "spikemon_to_raster(visnet.L3_inh_mon)"
   ]
  },
  {
   "cell_type": "code",
   "execution_count": null,
   "metadata": {
    "colab": {
     "base_uri": "https://localhost:8080/",
     "height": 562
    },
    "id": "s9i910sfRVeI",
    "outputId": "eb1b979d-8720-4651-fd72-b4e7da7dc01d"
   },
   "outputs": [],
   "source": [
    "spikemon_to_raster(visnet.L4_exc_mon)"
   ]
  },
  {
   "cell_type": "code",
   "execution_count": null,
   "metadata": {
    "colab": {
     "base_uri": "https://localhost:8080/",
     "height": 562
    },
    "id": "yNSyA_klRZhi",
    "outputId": "52ee03c1-10e1-432a-f858-59ec6837aa6e"
   },
   "outputs": [],
   "source": [
    "spikemon_to_raster(visnet.L4_inh_mon)"
   ]
  },
  {
   "cell_type": "markdown",
   "metadata": {},
   "source": [
    "Save spikes"
   ]
  },
  {
   "cell_type": "code",
   "execution_count": null,
   "metadata": {},
   "outputs": [],
   "source": [
    "spikes_to_csv(\"output_data/layer_0_spikes\",visnet.L0_mon)"
   ]
  },
  {
   "cell_type": "code",
   "execution_count": null,
   "metadata": {},
   "outputs": [],
   "source": [
    "spikes_to_csv(\"output_data/layer_1_excitatory_spikes\",visnet.L1_exc_mon)"
   ]
  },
  {
   "cell_type": "code",
   "execution_count": null,
   "metadata": {},
   "outputs": [],
   "source": [
    "spikes_to_csv(\"output_data/layer_1_inhibitory_spikes\",visnet.L1_inh_mon)"
   ]
  },
  {
   "cell_type": "code",
   "execution_count": null,
   "metadata": {},
   "outputs": [],
   "source": [
    "spikes_to_csv(\"output_data/layer_2_excitatory_spikes\",visnet.L2_exc_mon)"
   ]
  },
  {
   "cell_type": "code",
   "execution_count": null,
   "metadata": {},
   "outputs": [],
   "source": [
    "spikes_to_csv(\"output_data/layer_2_inhibitory_spikes\",visnet.L2_inh_mon)"
   ]
  },
  {
   "cell_type": "code",
   "execution_count": null,
   "metadata": {},
   "outputs": [],
   "source": [
    "spikes_to_csv(\"output_data/layer_3_excitatory_spikes\",visnet.L3_exc_mon)"
   ]
  },
  {
   "cell_type": "code",
   "execution_count": null,
   "metadata": {},
   "outputs": [],
   "source": [
    "spikes_to_csv(\"output_data/layer_3_inhibitory_spikes\",visnet.L3_inh_mon)"
   ]
  },
  {
   "cell_type": "code",
   "execution_count": null,
   "metadata": {},
   "outputs": [],
   "source": [
    "spikes_to_csv(\"output_data/layer_4_excitatory_spikes\",visnet.L4_exc_mon)"
   ]
  },
  {
   "cell_type": "code",
   "execution_count": null,
   "metadata": {},
   "outputs": [],
   "source": [
    "spikes_to_csv(\"output_data/layer_4_inhibitory_spikes\",visnet.L4_inh_mon)"
   ]
  },
  {
   "cell_type": "markdown",
   "metadata": {},
   "source": [
    "Save weights"
   ]
  },
  {
   "cell_type": "code",
   "execution_count": null,
   "metadata": {},
   "outputs": [],
   "source": []
  }
 ],
 "metadata": {
  "colab": {
   "collapsed_sections": [],
   "machine_shape": "hm",
   "name": "simulation_extra_RAM.ipynb",
   "provenance": []
  },
  "kernelspec": {
   "display_name": "Python 3",
   "language": "python",
   "name": "python3"
  },
  "language_info": {
   "codemirror_mode": {
    "name": "ipython",
    "version": 3
   },
   "file_extension": ".py",
   "mimetype": "text/x-python",
   "name": "python",
   "nbconvert_exporter": "python",
   "pygments_lexer": "ipython3",
   "version": "3.6.8"
  }
 },
 "nbformat": 4,
 "nbformat_minor": 2
}
