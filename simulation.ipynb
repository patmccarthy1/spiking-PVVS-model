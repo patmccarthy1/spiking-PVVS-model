{
 "cells": [
  {
   "cell_type": "markdown",
   "metadata": {},
   "source": [
    "**Simulation Runner**"
   ]
  },
  {
   "cell_type": "markdown",
   "metadata": {},
   "source": [
    "Install and import packages"
   ]
  },
  {
   "cell_type": "code",
   "execution_count": null,
   "metadata": {},
   "outputs": [],
   "source": [
    "!pip install --user brian2\n",
    "!pip install --user brian2tools\n",
    "!pip install --user --upgrade pip setuptools wheel\n",
    "!pip install --user opencv-python"
   ]
  },
  {
   "cell_type": "code",
   "execution_count": null,
   "metadata": {
    "id": "YOckP_sYQcda"
   },
   "outputs": [],
   "source": [
    "import numpy as np\n",
    "import matplotlib\n",
    "import matplotlib.pyplot as plt\n",
    "import cv2\n",
    "import glob\n",
    "import time\n",
    "import csv\n",
    "from brian2 import *\n",
    "from model import *"
   ]
  },
  {
   "cell_type": "markdown",
   "metadata": {},
   "source": [
    "Function definitions"
   ]
  },
  {
   "cell_type": "code",
   "execution_count": null,
   "metadata": {
    "id": "c82U1JttQg-S"
   },
   "outputs": [],
   "source": [
    "def spikemon_to_raster(spike_monitor):\n",
    "    fig = plt.figure(dpi=150)\n",
    "    plt.plot(spike_monitor.t/ms, spike_monitor.i, ',k')\n",
    "    plt.xlabel('Time (ms)')\n",
    "    plt.ylabel('Neuron index')\n",
    "    plt.ylim([0,1800000])\n",
    "    # plt.savefig(spike_monitor+'.png',dpi=500)"
   ]
  },
  {
   "cell_type": "code",
   "execution_count": null,
   "metadata": {
    "id": "_F9FfyFSQl_5"
   },
   "outputs": [],
   "source": [
    "def spikes_to_csv(file_name,spike_monitor):\n",
    "    spike_array = [spike_monitor.i,spike_monitor.t_]\n",
    "    with open(file_name+\".csv\",\"w+\") as my_csv:\n",
    "        csvWriter = csv.writer(my_csv,delimiter=',')\n",
    "        csvWriter.writerows(spike_array)"
   ]
  },
  {
   "cell_type": "code",
   "execution_count": null,
   "metadata": {},
   "outputs": [],
   "source": [
    "def weights_to_csv(file_name,synapse_object):\n",
    "    weight_array = [synapse_object.i, synapse_object.x_pre_, synapse_object.y_pre_, synapse_object.x_post_, synapse_object.y_post_, synapse_object.w]\n",
    "    with open(file_name+\".csv\",\"w+\") as my_csv:\n",
    "        csvWriter = csv.writer(my_csv,delimiter=',')\n",
    "        csvWriter.writerows(weight_array)"
   ]
  },
  {
   "cell_type": "code",
   "execution_count": null,
   "metadata": {},
   "outputs": [],
   "source": [
    "def rates_to_csv(file_name,neurons_object,spike_monitor,simulation_time):\n",
    "    N_spikes = [0] * len(neurons_object.i)\n",
    "    for nrn_idx in spike_monitor.i:\n",
    "        N_spikes[nrn_idx] += 1\n",
    "        rates = [(num_spikes/sim_time)/Hz for num_spikes in N_spikes]\n",
    "        spike_and_rate_array = [neurons_object.i, N_spikes, rates]\n",
    "        with open(file_name+\".csv\",\"w+\") as my_csv:\n",
    "            csvWriter = csv.writer(my_csv,delimiter=',')\n",
    "            csvWriter.writerows(spike_and_rate_array)"
   ]
  },
  {
   "cell_type": "markdown",
   "metadata": {},
   "source": [
    "Create network"
   ]
  },
  {
   "cell_type": "code",
   "execution_count": null,
   "metadata": {
    "colab": {
     "base_uri": "https://localhost:8080/"
    },
    "id": "XryjXIYhQ_gM",
    "outputId": "dae6cae5-d678-4ad7-a209-bb25b85994db"
   },
   "outputs": [],
   "source": [
    "visnet = SpikingVisNet()\n",
    "visnet.model_summary()"
   ]
  },
  {
   "cell_type": "code",
   "execution_count": null,
   "metadata": {},
   "outputs": [],
   "source": [
    "start_scope()"
   ]
  },
  {
   "cell_type": "code",
   "execution_count": null,
   "metadata": {},
   "outputs": [],
   "source": [
    "visnet.rho = 0.1"
   ]
  },
  {
   "cell_type": "markdown",
   "metadata": {},
   "source": [
    "Train network"
   ]
  },
  {
   "cell_type": "code",
   "execution_count": null,
   "metadata": {
    "colab": {
     "base_uri": "https://localhost:8080/"
    },
    "id": "beJ_3jq4JkDD",
    "outputId": "31ed26bc-27e6-4539-fc23-1a6d165a76b1"
   },
   "outputs": [],
   "source": [
    "ims = read_images('input_data/n4p2')\n",
    "for im in ims:\n",
    "    # create plot of original image\n",
    "    plt.figure(figsize=[7,5]) \n",
    "    plt.imshow(im,cmap='gray', vmin=0, vmax=255) # this line creates the image using the pre-defined sub axes\n",
    "    visnet.run_simulation(im,2*second)"
   ]
  },
  {
   "cell_type": "markdown",
   "metadata": {},
   "source": [
    "Test network"
   ]
  },
  {
   "cell_type": "code",
   "execution_count": null,
   "metadata": {},
   "outputs": [],
   "source": [
    "visnet.STDP_off()"
   ]
  },
  {
   "cell_type": "code",
   "execution_count": null,
   "metadata": {},
   "outputs": [],
   "source": [
    "for im in ims:\n",
    "    # create plot of original image\n",
    "    plt.figure(figsize=[7,5])\n",
    "    plt.imshow(im,cmap='gray', vmin=0, vmax=255) # this line creates the image using the pre-defined sub axes\n",
    "    visnet.run_simulation(im,2*second)"
   ]
  },
  {
   "cell_type": "markdown",
   "metadata": {},
   "source": [
    "Generate plots to visualise spikes"
   ]
  },
  {
   "cell_type": "code",
   "execution_count": null,
   "metadata": {
    "id": "a4tKglyIQY7Z"
   },
   "outputs": [],
   "source": [
    "%matplotlib inline"
   ]
  },
  {
   "cell_type": "code",
   "execution_count": null,
   "metadata": {},
   "outputs": [],
   "source": [
    "len(visnet.filters)"
   ]
  },
  {
   "cell_type": "code",
   "execution_count": null,
   "metadata": {
    "colab": {
     "base_uri": "https://localhost:8080/",
     "height": 562
    },
    "id": "Kx4CBnQKQj6J",
    "outputId": "92268321-a113-4b3d-ab54-9a827f092709"
   },
   "outputs": [],
   "source": [
    "spikemon_to_raster(visnet.L0_mon)"
   ]
  },
  {
   "cell_type": "code",
   "execution_count": null,
   "metadata": {
    "colab": {
     "base_uri": "https://localhost:8080/",
     "height": 562
    },
    "id": "HC-3FxQeQqZa",
    "outputId": "6fe583de-8460-48ca-deff-4ef2c0ba6f02"
   },
   "outputs": [],
   "source": [
    "spikemon_to_raster(visnet.L1_exc_mon)"
   ]
  },
  {
   "cell_type": "code",
   "execution_count": null,
   "metadata": {
    "colab": {
     "base_uri": "https://localhost:8080/",
     "height": 562
    },
    "id": "TBdySk5EQzzB",
    "outputId": "95c553a5-d941-498c-93f4-49aa2c35eb66"
   },
   "outputs": [],
   "source": [
    "spikemon_to_raster(visnet.L1_inh_mon)"
   ]
  },
  {
   "cell_type": "code",
   "execution_count": null,
   "metadata": {
    "colab": {
     "base_uri": "https://localhost:8080/",
     "height": 562
    },
    "id": "B3VVMC2xQ7oO",
    "outputId": "d27c63bd-b9cc-4916-ebfe-588afbe9bbeb"
   },
   "outputs": [],
   "source": [
    "spikemon_to_raster(visnet.L2_exc_mon)"
   ]
  },
  {
   "cell_type": "code",
   "execution_count": null,
   "metadata": {
    "colab": {
     "base_uri": "https://localhost:8080/",
     "height": 562
    },
    "id": "yleVWf_kRDqJ",
    "outputId": "bcd68169-8d50-452c-c9a2-b0fd1d093c0e"
   },
   "outputs": [],
   "source": [
    "spikemon_to_raster(visnet.L2_inh_mon)"
   ]
  },
  {
   "cell_type": "code",
   "execution_count": null,
   "metadata": {
    "colab": {
     "base_uri": "https://localhost:8080/",
     "height": 562
    },
    "id": "JZ_imrrQRHxg",
    "outputId": "6a5cb2f1-4c74-4cb1-c12e-d1b04e4211c6"
   },
   "outputs": [],
   "source": [
    "spikemon_to_raster(visnet.L3_exc_mon)"
   ]
  },
  {
   "cell_type": "code",
   "execution_count": null,
   "metadata": {
    "colab": {
     "base_uri": "https://localhost:8080/",
     "height": 562
    },
    "id": "202zNIzWRRx1",
    "outputId": "96ead5de-5701-41a6-a62d-00b6b88e1a31"
   },
   "outputs": [],
   "source": [
    "spikemon_to_raster(visnet.L3_inh_mon)"
   ]
  },
  {
   "cell_type": "code",
   "execution_count": null,
   "metadata": {
    "colab": {
     "base_uri": "https://localhost:8080/",
     "height": 562
    },
    "id": "s9i910sfRVeI",
    "outputId": "eb1b979d-8720-4651-fd72-b4e7da7dc01d"
   },
   "outputs": [],
   "source": [
    "spikemon_to_raster(visnet.L4_exc_mon)"
   ]
  },
  {
   "cell_type": "code",
   "execution_count": null,
   "metadata": {
    "colab": {
     "base_uri": "https://localhost:8080/",
     "height": 562
    },
    "id": "yNSyA_klRZhi",
    "outputId": "52ee03c1-10e1-432a-f858-59ec6837aa6e"
   },
   "outputs": [],
   "source": [
    "spikemon_to_raster(visnet.L4_inh_mon)"
   ]
  },
  {
   "cell_type": "markdown",
   "metadata": {},
   "source": [
    "Save spikes"
   ]
  },
  {
   "cell_type": "raw",
   "metadata": {},
   "source": [
    "TO DO: edit these functions and create lists in SpikingVisNet of monitors, synapses etc. so can create all CSV files by running function once"
   ]
  },
  {
   "cell_type": "code",
   "execution_count": null,
   "metadata": {},
   "outputs": [],
   "source": [
    "spikes_to_csv(\"output_data/layer_0_spikes\",visnet.L0_mon)"
   ]
  },
  {
   "cell_type": "code",
   "execution_count": null,
   "metadata": {},
   "outputs": [],
   "source": [
    "spikes_to_csv(\"output_data/layer_1_excitatory_spikes\",visnet.L1_exc_mon)"
   ]
  },
  {
   "cell_type": "code",
   "execution_count": null,
   "metadata": {},
   "outputs": [],
   "source": [
    "spikes_to_csv(\"output_data/layer_1_inhibitory_spikes\",visnet.L1_inh_mon)"
   ]
  },
  {
   "cell_type": "code",
   "execution_count": null,
   "metadata": {},
   "outputs": [],
   "source": [
    "spikes_to_csv(\"output_data/layer_2_excitatory_spikes\",visnet.L2_exc_mon)"
   ]
  },
  {
   "cell_type": "code",
   "execution_count": null,
   "metadata": {},
   "outputs": [],
   "source": [
    "spikes_to_csv(\"output_data/layer_2_inhibitory_spikes\",visnet.L2_inh_mon)"
   ]
  },
  {
   "cell_type": "code",
   "execution_count": null,
   "metadata": {},
   "outputs": [],
   "source": [
    "spikes_to_csv(\"output_data/layer_3_excitatory_spikes\",visnet.L3_exc_mon)"
   ]
  },
  {
   "cell_type": "code",
   "execution_count": null,
   "metadata": {},
   "outputs": [],
   "source": [
    "spikes_to_csv(\"output_data/layer_3_inhibitory_spikes\",visnet.L3_inh_mon)"
   ]
  },
  {
   "cell_type": "code",
   "execution_count": null,
   "metadata": {},
   "outputs": [],
   "source": [
    "spikes_to_csv(\"output_data/layer_4_excitatory_spikes\",visnet.L4_exc_mon)"
   ]
  },
  {
   "cell_type": "code",
   "execution_count": null,
   "metadata": {},
   "outputs": [],
   "source": [
    "spikes_to_csv(\"output_data/layer_4_inhibitory_spikes\",visnet.L4_inh_mon)"
   ]
  },
  {
   "cell_type": "markdown",
   "metadata": {},
   "source": [
    "Save weights"
   ]
  },
  {
   "cell_type": "code",
   "execution_count": null,
   "metadata": {},
   "outputs": [],
   "source": [
    "weights_to_csv(\"output_data/layer_1_exc_layer_1_inh_weights\",visnet.Syn_L1_exc_L_inh)"
   ]
  },
  {
   "cell_type": "code",
   "execution_count": null,
   "metadata": {},
   "outputs": [],
   "source": [
    "weights_to_csv(\"output_data/layer_1_inh_layer_1_exc_weights\",visnet.Syn_L1_inh_L1_exc)"
   ]
  },
  {
   "cell_type": "code",
   "execution_count": null,
   "metadata": {},
   "outputs": [],
   "source": [
    "weights_to_csv(\"output_data/layer_1_exc_layer_2_exc_weights\",visnet.Syn_L1_exc_L2_exc)"
   ]
  },
  {
   "cell_type": "code",
   "execution_count": null,
   "metadata": {},
   "outputs": [],
   "source": [
    "weights_to_csv(\"output_data/layer_2_exc_layer_1_exc_weights\",visnet.Syn_L2_exc_L1_exc)"
   ]
  },
  {
   "cell_type": "code",
   "execution_count": null,
   "metadata": {},
   "outputs": [],
   "source": [
    "weights_to_csv(\"output_data/layer_2_exc_layer_2_inh_weights\",visnet.Syn_L2_exc_L2_inh)"
   ]
  },
  {
   "cell_type": "code",
   "execution_count": null,
   "metadata": {},
   "outputs": [],
   "source": [
    "weights_to_csv(\"output_data/layer_2_inh_layer_2_exc_weights\",visnet.Syn_L2_inh_L2_exc)"
   ]
  },
  {
   "cell_type": "code",
   "execution_count": null,
   "metadata": {},
   "outputs": [],
   "source": [
    "weights_to_csv(\"output_data/layer_2_exc_layer_3_exc_weights\",visnet.Syn_L2_exc_L3_exc)"
   ]
  },
  {
   "cell_type": "code",
   "execution_count": null,
   "metadata": {},
   "outputs": [],
   "source": [
    "weights_to_csv(\"output_data/layer_3_exc_layer_2_exc_weights\",visnet.Syn_L3_exc_L2_exc)"
   ]
  },
  {
   "cell_type": "code",
   "execution_count": null,
   "metadata": {},
   "outputs": [],
   "source": [
    "weights_to_csv(\"output_data/layer_3_exc_layer_3_inh_weights\",visnet.Syn_L3_exc_L3_inh)"
   ]
  },
  {
   "cell_type": "code",
   "execution_count": null,
   "metadata": {},
   "outputs": [],
   "source": [
    "weights_to_csv(\"output_data/layer_3_inh_layer_3_exc_weights\",visnet.Syn_L3_inh_L3_exc)"
   ]
  },
  {
   "cell_type": "code",
   "execution_count": null,
   "metadata": {},
   "outputs": [],
   "source": [
    "weights_to_csv(\"output_data/layer_3_exc_layer_4_exc_weights\",visnet.Syn_L3_exc_L4_exc)"
   ]
  },
  {
   "cell_type": "code",
   "execution_count": null,
   "metadata": {},
   "outputs": [],
   "source": [
    "weights_to_csv(\"output_data/layer_4_exc_layer_3_exc_weights\",visnet.Syn_L4_exc_L3_exc)"
   ]
  },
  {
   "cell_type": "code",
   "execution_count": null,
   "metadata": {},
   "outputs": [],
   "source": [
    "weights_to_csv(\"output_data/layer_4_exc_layer_4_inh_weights\",visnet.Syn_L4_exc_L4_inh)"
   ]
  },
  {
   "cell_type": "code",
   "execution_count": null,
   "metadata": {},
   "outputs": [],
   "source": [
    "weights_to_csv(\"output_data/layer_4_inh_layer_4_exc_weights\",visnet.Syn_L4_inh_L4_exc)"
   ]
  },
  {
   "cell_type": "raw",
   "metadata": {},
   "source": [
    "Save rates"
   ]
  },
  {
   "cell_type": "code",
   "execution_count": null,
   "metadata": {},
   "outputs": [],
   "source": [
    "rates_to_csv(\"output_data/layer_1_excitatory_rates\",visnet.L1_exc,visnet.L1_exc_mon,2.3884*second)"
   ]
  }
 ],
 "metadata": {
  "colab": {
   "collapsed_sections": [],
   "machine_shape": "hm",
   "name": "simulation_extra_RAM.ipynb",
   "provenance": []
  },
  "kernelspec": {
   "display_name": "Python 3",
   "language": "python",
   "name": "python3"
  },
  "language_info": {
   "codemirror_mode": {
    "name": "ipython",
    "version": 3
   },
   "file_extension": ".py",
   "mimetype": "text/x-python",
   "name": "python",
   "nbconvert_exporter": "python",
   "pygments_lexer": "ipython3",
   "version": "3.6.8"
  }
 },
 "nbformat": 4,
 "nbformat_minor": 2
}
